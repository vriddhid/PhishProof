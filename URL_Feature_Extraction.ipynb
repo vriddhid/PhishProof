{
  "nbformat": 4,
  "nbformat_minor": 0,
  "metadata": {
    "colab": {
      "provenance": []
    },
    "kernelspec": {
      "name": "python3",
      "display_name": "Python 3"
    },
    "accelerator": "GPU"
  },
  "cells": [
    {
      "cell_type": "markdown",
      "metadata": {
        "id": "x8WZXl8z-1VC"
      },
      "source": [
        "# **Phishing Website Detection Feature Extraction**"
      ]
    },
    {
      "cell_type": "markdown",
      "metadata": {
        "id": "SUwXaC2JiIMF"
      },
      "source": [
        "# **1. Objective:**\n",
        "A phishing website is a common social engineering method that mimics trustful uniform resource locators (URLs) and webpages. The objective of this notebook is to collect data & extract the selctive features form the URLs.\n"
      ]
    },
    {
      "cell_type": "markdown",
      "metadata": {
        "id": "pkIGg-nGiqEO"
      },
      "source": [
        "# **2. Collecting the Data:**\n",
        "For this project, we need a bunch of urls of type legitimate (0) and phishing (1).\n",
        "\n",
        "The collection of phishing urls is rather easy because of the opensource service called PhishTank. This service provide a set of phishing URLs in multiple formats like csv, json etc. that gets updated hourly. To download the data: https://www.phishtank.com/developer_info.php\n",
        "\n",
        "For the legitimate URLs, I found a source that has a collection of benign, spam, phishing, malware & defacement URLs. The source of the dataset is University of New Brunswick, https://www.unb.ca/cic/datasets/url-2016.html. The number of legitimate URLs in this collection are 35,300. The URL collection is downloaded & from that, *'Benign_list_big_final.csv'* is the file of our interest. This file is then uploaded to the Colab for the feature extraction.\n"
      ]
    },
    {
      "cell_type": "markdown",
      "metadata": {
        "id": "SRyCQJnSmACu"
      },
      "source": [
        "## **2.1. Phishing URLs:**\n",
        "\n",
        "The phishing URLs are collected from the PhishTank from the link provided. The csv file of phishing URLs is obtained by using wget command. After downlaoding the dataset, it is loaded into a DataFrame."
      ]
    },
    {
      "cell_type": "code",
      "metadata": {
        "id": "PH13wfswmyDv"
      },
      "source": [
        "#importing required packages for this module\n",
        "import pandas as pd"
      ],
      "execution_count": null,
      "outputs": []
    },
    {
      "cell_type": "code",
      "metadata": {
        "id": "FF5vM84YriWc",
        "outputId": "76b56035-1259-4a04-944c-57aab17f8521",
        "colab": {
          "base_uri": "https://localhost:8080/"
        }
      },
      "source": [
        "#Downloading the phishing URLs file\n",
        "!wget http://data.phishtank.com/data/online-valid.csv"
      ],
      "execution_count": null,
      "outputs": [
        {
          "output_type": "stream",
          "name": "stdout",
          "text": [
            "URL transformed to HTTPS due to an HSTS policy\n",
            "--2023-04-25 17:31:44--  https://data.phishtank.com/data/online-valid.csv\n",
            "Resolving data.phishtank.com (data.phishtank.com)... 104.16.101.75, 104.17.177.85, 2606:4700::6810:654b, ...\n",
            "Connecting to data.phishtank.com (data.phishtank.com)|104.16.101.75|:443... connected.\n",
            "HTTP request sent, awaiting response... 302 Found\n",
            "Location: https://cdn.phishtank.com/datadumps/verified_online.csv?Expires=1682443914&Signature=sAT4yXB-xQa8BDdZylOdoSSv5oDuMHTbhFdlCcsn3IqLRsBxBFB5WOQtosHHT-Z5DoqgtCD9AR1IFmmvp6ONC~fmxvWc3aaby2F0Y~VbPWTA28Wt4ZucPPgy293vM1iCRaMBMYMfbBDWZzupArvxpAF2sL0vKcrbOfbBY5v5c000J9W3bzRvWFGJG-2Oqh5PFgEr3H9JcafywdzK5I6kwRIJNux0SSx1E64sKS7g92YRhrvRpsWwcGXc7xbyLNE~-EHPzSr7sboQ~tiV4QLSctPZAt-7jsP57xNDO8LeGZbmX42F9PVL-je8Cbe0uEfIOi-yhUMZqP7BFuuPTOHCbA__&Key-Pair-Id=APKAILB45UG3RB4CSOJA [following]\n",
            "--2023-04-25 17:31:44--  https://cdn.phishtank.com/datadumps/verified_online.csv?Expires=1682443914&Signature=sAT4yXB-xQa8BDdZylOdoSSv5oDuMHTbhFdlCcsn3IqLRsBxBFB5WOQtosHHT-Z5DoqgtCD9AR1IFmmvp6ONC~fmxvWc3aaby2F0Y~VbPWTA28Wt4ZucPPgy293vM1iCRaMBMYMfbBDWZzupArvxpAF2sL0vKcrbOfbBY5v5c000J9W3bzRvWFGJG-2Oqh5PFgEr3H9JcafywdzK5I6kwRIJNux0SSx1E64sKS7g92YRhrvRpsWwcGXc7xbyLNE~-EHPzSr7sboQ~tiV4QLSctPZAt-7jsP57xNDO8LeGZbmX42F9PVL-je8Cbe0uEfIOi-yhUMZqP7BFuuPTOHCbA__&Key-Pair-Id=APKAILB45UG3RB4CSOJA\n",
            "Resolving cdn.phishtank.com (cdn.phishtank.com)... 104.17.177.85, 104.16.101.75, 2606:4700::6811:b155, ...\n",
            "Connecting to cdn.phishtank.com (cdn.phishtank.com)|104.17.177.85|:443... connected.\n",
            "HTTP request sent, awaiting response... 200 OK\n",
            "Length: 11682706 (11M) [text/csv]\n",
            "Saving to: ‘online-valid.csv.1’\n",
            "\n",
            "online-valid.csv.1  100%[===================>]  11.14M  --.-KB/s    in 0.09s   \n",
            "\n",
            "2023-04-25 17:31:44 (120 MB/s) - ‘online-valid.csv.1’ saved [11682706/11682706]\n",
            "\n"
          ]
        }
      ]
    },
    {
      "cell_type": "markdown",
      "metadata": {
        "id": "paesHH9rnX8r"
      },
      "source": [
        "The above command downlaods the file of phishing URLs, *online-valid.csv* and stores in the */content/* folder."
      ]
    },
    {
      "cell_type": "code",
      "metadata": {
        "id": "GaGVL9gYKXma",
        "outputId": "ba15cf80-8298-43ec-86a5-2895e4ebb6bd",
        "colab": {
          "base_uri": "https://localhost:8080/",
          "height": 357
        }
      },
      "source": [
        "#loading the phishing URLs data to dataframe\n",
        "data0 = pd.read_csv(\"online-valid.csv\")\n",
        "data0.head()"
      ],
      "execution_count": null,
      "outputs": [
        {
          "output_type": "execute_result",
          "data": {
            "text/plain": [
              "   phish_id                                                url  \\\n",
              "0   8127675                        http://revokecash.awiki.org   \n",
              "1   8127666                      http://ma-uionlinesystem.com/   \n",
              "2   8127647  https://nftstorage.link/ipfs/QmchiPZKHT5fSC9DR...   \n",
              "3   8127646  https://bafybeigvnd42jom7e3wimgpo2abup6bsnp53c...   \n",
              "4   8127645  https://infura-ipfs.io/ipfs/QmchiPZKHT5fSC9DRv...   \n",
              "\n",
              "                                    phish_detail_url  \\\n",
              "0  http://www.phishtank.com/phish_detail.php?phis...   \n",
              "1  http://www.phishtank.com/phish_detail.php?phis...   \n",
              "2  http://www.phishtank.com/phish_detail.php?phis...   \n",
              "3  http://www.phishtank.com/phish_detail.php?phis...   \n",
              "4  http://www.phishtank.com/phish_detail.php?phis...   \n",
              "\n",
              "             submission_time verified          verification_time online target  \n",
              "0  2023-04-24T15:58:30+00:00      yes  2023-04-24T16:07:25+00:00    yes  Other  \n",
              "1  2023-04-24T15:51:18+00:00      yes  2023-04-24T15:55:10+00:00    yes  Other  \n",
              "2  2023-04-24T15:40:14+00:00      yes  2023-04-24T15:55:10+00:00    yes  Other  \n",
              "3  2023-04-24T15:40:05+00:00      yes  2023-04-24T15:55:10+00:00    yes  Other  \n",
              "4  2023-04-24T15:39:57+00:00      yes  2023-04-24T15:55:10+00:00    yes  Other  "
            ],
            "text/html": [
              "\n",
              "  <div id=\"df-f58731c6-9846-4f2a-8668-f19e2619c0a4\">\n",
              "    <div class=\"colab-df-container\">\n",
              "      <div>\n",
              "<style scoped>\n",
              "    .dataframe tbody tr th:only-of-type {\n",
              "        vertical-align: middle;\n",
              "    }\n",
              "\n",
              "    .dataframe tbody tr th {\n",
              "        vertical-align: top;\n",
              "    }\n",
              "\n",
              "    .dataframe thead th {\n",
              "        text-align: right;\n",
              "    }\n",
              "</style>\n",
              "<table border=\"1\" class=\"dataframe\">\n",
              "  <thead>\n",
              "    <tr style=\"text-align: right;\">\n",
              "      <th></th>\n",
              "      <th>phish_id</th>\n",
              "      <th>url</th>\n",
              "      <th>phish_detail_url</th>\n",
              "      <th>submission_time</th>\n",
              "      <th>verified</th>\n",
              "      <th>verification_time</th>\n",
              "      <th>online</th>\n",
              "      <th>target</th>\n",
              "    </tr>\n",
              "  </thead>\n",
              "  <tbody>\n",
              "    <tr>\n",
              "      <th>0</th>\n",
              "      <td>8127675</td>\n",
              "      <td>http://revokecash.awiki.org</td>\n",
              "      <td>http://www.phishtank.com/phish_detail.php?phis...</td>\n",
              "      <td>2023-04-24T15:58:30+00:00</td>\n",
              "      <td>yes</td>\n",
              "      <td>2023-04-24T16:07:25+00:00</td>\n",
              "      <td>yes</td>\n",
              "      <td>Other</td>\n",
              "    </tr>\n",
              "    <tr>\n",
              "      <th>1</th>\n",
              "      <td>8127666</td>\n",
              "      <td>http://ma-uionlinesystem.com/</td>\n",
              "      <td>http://www.phishtank.com/phish_detail.php?phis...</td>\n",
              "      <td>2023-04-24T15:51:18+00:00</td>\n",
              "      <td>yes</td>\n",
              "      <td>2023-04-24T15:55:10+00:00</td>\n",
              "      <td>yes</td>\n",
              "      <td>Other</td>\n",
              "    </tr>\n",
              "    <tr>\n",
              "      <th>2</th>\n",
              "      <td>8127647</td>\n",
              "      <td>https://nftstorage.link/ipfs/QmchiPZKHT5fSC9DR...</td>\n",
              "      <td>http://www.phishtank.com/phish_detail.php?phis...</td>\n",
              "      <td>2023-04-24T15:40:14+00:00</td>\n",
              "      <td>yes</td>\n",
              "      <td>2023-04-24T15:55:10+00:00</td>\n",
              "      <td>yes</td>\n",
              "      <td>Other</td>\n",
              "    </tr>\n",
              "    <tr>\n",
              "      <th>3</th>\n",
              "      <td>8127646</td>\n",
              "      <td>https://bafybeigvnd42jom7e3wimgpo2abup6bsnp53c...</td>\n",
              "      <td>http://www.phishtank.com/phish_detail.php?phis...</td>\n",
              "      <td>2023-04-24T15:40:05+00:00</td>\n",
              "      <td>yes</td>\n",
              "      <td>2023-04-24T15:55:10+00:00</td>\n",
              "      <td>yes</td>\n",
              "      <td>Other</td>\n",
              "    </tr>\n",
              "    <tr>\n",
              "      <th>4</th>\n",
              "      <td>8127645</td>\n",
              "      <td>https://infura-ipfs.io/ipfs/QmchiPZKHT5fSC9DRv...</td>\n",
              "      <td>http://www.phishtank.com/phish_detail.php?phis...</td>\n",
              "      <td>2023-04-24T15:39:57+00:00</td>\n",
              "      <td>yes</td>\n",
              "      <td>2023-04-24T15:55:10+00:00</td>\n",
              "      <td>yes</td>\n",
              "      <td>Other</td>\n",
              "    </tr>\n",
              "  </tbody>\n",
              "</table>\n",
              "</div>\n",
              "      <button class=\"colab-df-convert\" onclick=\"convertToInteractive('df-f58731c6-9846-4f2a-8668-f19e2619c0a4')\"\n",
              "              title=\"Convert this dataframe to an interactive table.\"\n",
              "              style=\"display:none;\">\n",
              "        \n",
              "  <svg xmlns=\"http://www.w3.org/2000/svg\" height=\"24px\"viewBox=\"0 0 24 24\"\n",
              "       width=\"24px\">\n",
              "    <path d=\"M0 0h24v24H0V0z\" fill=\"none\"/>\n",
              "    <path d=\"M18.56 5.44l.94 2.06.94-2.06 2.06-.94-2.06-.94-.94-2.06-.94 2.06-2.06.94zm-11 1L8.5 8.5l.94-2.06 2.06-.94-2.06-.94L8.5 2.5l-.94 2.06-2.06.94zm10 10l.94 2.06.94-2.06 2.06-.94-2.06-.94-.94-2.06-.94 2.06-2.06.94z\"/><path d=\"M17.41 7.96l-1.37-1.37c-.4-.4-.92-.59-1.43-.59-.52 0-1.04.2-1.43.59L10.3 9.45l-7.72 7.72c-.78.78-.78 2.05 0 2.83L4 21.41c.39.39.9.59 1.41.59.51 0 1.02-.2 1.41-.59l7.78-7.78 2.81-2.81c.8-.78.8-2.07 0-2.86zM5.41 20L4 18.59l7.72-7.72 1.47 1.35L5.41 20z\"/>\n",
              "  </svg>\n",
              "      </button>\n",
              "      \n",
              "  <style>\n",
              "    .colab-df-container {\n",
              "      display:flex;\n",
              "      flex-wrap:wrap;\n",
              "      gap: 12px;\n",
              "    }\n",
              "\n",
              "    .colab-df-convert {\n",
              "      background-color: #E8F0FE;\n",
              "      border: none;\n",
              "      border-radius: 50%;\n",
              "      cursor: pointer;\n",
              "      display: none;\n",
              "      fill: #1967D2;\n",
              "      height: 32px;\n",
              "      padding: 0 0 0 0;\n",
              "      width: 32px;\n",
              "    }\n",
              "\n",
              "    .colab-df-convert:hover {\n",
              "      background-color: #E2EBFA;\n",
              "      box-shadow: 0px 1px 2px rgba(60, 64, 67, 0.3), 0px 1px 3px 1px rgba(60, 64, 67, 0.15);\n",
              "      fill: #174EA6;\n",
              "    }\n",
              "\n",
              "    [theme=dark] .colab-df-convert {\n",
              "      background-color: #3B4455;\n",
              "      fill: #D2E3FC;\n",
              "    }\n",
              "\n",
              "    [theme=dark] .colab-df-convert:hover {\n",
              "      background-color: #434B5C;\n",
              "      box-shadow: 0px 1px 3px 1px rgba(0, 0, 0, 0.15);\n",
              "      filter: drop-shadow(0px 1px 2px rgba(0, 0, 0, 0.3));\n",
              "      fill: #FFFFFF;\n",
              "    }\n",
              "  </style>\n",
              "\n",
              "      <script>\n",
              "        const buttonEl =\n",
              "          document.querySelector('#df-f58731c6-9846-4f2a-8668-f19e2619c0a4 button.colab-df-convert');\n",
              "        buttonEl.style.display =\n",
              "          google.colab.kernel.accessAllowed ? 'block' : 'none';\n",
              "\n",
              "        async function convertToInteractive(key) {\n",
              "          const element = document.querySelector('#df-f58731c6-9846-4f2a-8668-f19e2619c0a4');\n",
              "          const dataTable =\n",
              "            await google.colab.kernel.invokeFunction('convertToInteractive',\n",
              "                                                     [key], {});\n",
              "          if (!dataTable) return;\n",
              "\n",
              "          const docLinkHtml = 'Like what you see? Visit the ' +\n",
              "            '<a target=\"_blank\" href=https://colab.research.google.com/notebooks/data_table.ipynb>data table notebook</a>'\n",
              "            + ' to learn more about interactive tables.';\n",
              "          element.innerHTML = '';\n",
              "          dataTable['output_type'] = 'display_data';\n",
              "          await google.colab.output.renderOutput(dataTable, element);\n",
              "          const docLink = document.createElement('div');\n",
              "          docLink.innerHTML = docLinkHtml;\n",
              "          element.appendChild(docLink);\n",
              "        }\n",
              "      </script>\n",
              "    </div>\n",
              "  </div>\n",
              "  "
            ]
          },
          "metadata": {},
          "execution_count": 11
        }
      ]
    },
    {
      "cell_type": "code",
      "metadata": {
        "id": "mAZAvSe2n1oT",
        "outputId": "d575a809-bb92-40c6-dd87-4229e5d4b5da",
        "colab": {
          "base_uri": "https://localhost:8080/"
        }
      },
      "source": [
        "data0.shape"
      ],
      "execution_count": null,
      "outputs": [
        {
          "output_type": "execute_result",
          "data": {
            "text/plain": [
              "(61527, 8)"
            ]
          },
          "metadata": {},
          "execution_count": 12
        }
      ]
    },
    {
      "cell_type": "markdown",
      "metadata": {
        "id": "fBFvH8h0oFkO"
      },
      "source": [
        "So, the data has thousands of phishing URLs. But the problem here is, this data gets updated hourly. Without getting into the risk of data imbalance, I am considering a margin value of 10,000 phishing URLs & 5000 legitimate URLs.\n",
        "\n",
        "Thereby, picking up 5000 samples from the above dataframe randomly."
      ]
    },
    {
      "cell_type": "code",
      "metadata": {
        "id": "9CTCI_EgERPM",
        "outputId": "beb9cb3a-449f-43d6-ae5b-18efb9c9f6a4",
        "colab": {
          "base_uri": "https://localhost:8080/",
          "height": 357
        }
      },
      "source": [
        "#Collecting 5,000 Phishing URLs randomly\n",
        "phishurl = data0.sample(n = 5000, random_state = 12).copy()\n",
        "phishurl = phishurl.reset_index(drop=True)\n",
        "phishurl.head()"
      ],
      "execution_count": null,
      "outputs": [
        {
          "output_type": "execute_result",
          "data": {
            "text/plain": [
              "   phish_id                                                url  \\\n",
              "0   8043670  https://certain-mountainous-felidae.glitch.me/...   \n",
              "1   8023692                https://pocztapollbol.safeshops.top   \n",
              "2   7977219  https://tribelio.page/securitybusinessfacebook...   \n",
              "3   7980191                      https://etc-ikjhg.wikaba.com/   \n",
              "4   8030149  http://6391a9e5-b39e-44dc-9ebe-2d768990df42.id...   \n",
              "\n",
              "                                    phish_detail_url  \\\n",
              "0  http://www.phishtank.com/phish_detail.php?phis...   \n",
              "1  http://www.phishtank.com/phish_detail.php?phis...   \n",
              "2  http://www.phishtank.com/phish_detail.php?phis...   \n",
              "3  http://www.phishtank.com/phish_detail.php?phis...   \n",
              "4  http://www.phishtank.com/phish_detail.php?phis...   \n",
              "\n",
              "             submission_time verified          verification_time online  \\\n",
              "0  2023-02-21T06:18:57+00:00      yes  2023-02-21T06:32:29+00:00    yes   \n",
              "1  2023-02-02T09:43:15+00:00      yes  2023-02-02T11:32:38+00:00    yes   \n",
              "2  2022-12-14T17:58:16+00:00      yes  2022-12-14T18:02:57+00:00    yes   \n",
              "3  2022-12-17T17:10:53+00:00      yes  2022-12-20T14:51:48+00:00    yes   \n",
              "4  2023-02-08T15:27:42+00:00      yes  2023-02-08T16:12:48+00:00    yes   \n",
              "\n",
              "     target  \n",
              "0     Other  \n",
              "1     Other  \n",
              "2  Facebook  \n",
              "3     Other  \n",
              "4     Other  "
            ],
            "text/html": [
              "\n",
              "  <div id=\"df-c0b18d80-a46a-4906-b8b6-1ed384a7020c\">\n",
              "    <div class=\"colab-df-container\">\n",
              "      <div>\n",
              "<style scoped>\n",
              "    .dataframe tbody tr th:only-of-type {\n",
              "        vertical-align: middle;\n",
              "    }\n",
              "\n",
              "    .dataframe tbody tr th {\n",
              "        vertical-align: top;\n",
              "    }\n",
              "\n",
              "    .dataframe thead th {\n",
              "        text-align: right;\n",
              "    }\n",
              "</style>\n",
              "<table border=\"1\" class=\"dataframe\">\n",
              "  <thead>\n",
              "    <tr style=\"text-align: right;\">\n",
              "      <th></th>\n",
              "      <th>phish_id</th>\n",
              "      <th>url</th>\n",
              "      <th>phish_detail_url</th>\n",
              "      <th>submission_time</th>\n",
              "      <th>verified</th>\n",
              "      <th>verification_time</th>\n",
              "      <th>online</th>\n",
              "      <th>target</th>\n",
              "    </tr>\n",
              "  </thead>\n",
              "  <tbody>\n",
              "    <tr>\n",
              "      <th>0</th>\n",
              "      <td>8043670</td>\n",
              "      <td>https://certain-mountainous-felidae.glitch.me/...</td>\n",
              "      <td>http://www.phishtank.com/phish_detail.php?phis...</td>\n",
              "      <td>2023-02-21T06:18:57+00:00</td>\n",
              "      <td>yes</td>\n",
              "      <td>2023-02-21T06:32:29+00:00</td>\n",
              "      <td>yes</td>\n",
              "      <td>Other</td>\n",
              "    </tr>\n",
              "    <tr>\n",
              "      <th>1</th>\n",
              "      <td>8023692</td>\n",
              "      <td>https://pocztapollbol.safeshops.top</td>\n",
              "      <td>http://www.phishtank.com/phish_detail.php?phis...</td>\n",
              "      <td>2023-02-02T09:43:15+00:00</td>\n",
              "      <td>yes</td>\n",
              "      <td>2023-02-02T11:32:38+00:00</td>\n",
              "      <td>yes</td>\n",
              "      <td>Other</td>\n",
              "    </tr>\n",
              "    <tr>\n",
              "      <th>2</th>\n",
              "      <td>7977219</td>\n",
              "      <td>https://tribelio.page/securitybusinessfacebook...</td>\n",
              "      <td>http://www.phishtank.com/phish_detail.php?phis...</td>\n",
              "      <td>2022-12-14T17:58:16+00:00</td>\n",
              "      <td>yes</td>\n",
              "      <td>2022-12-14T18:02:57+00:00</td>\n",
              "      <td>yes</td>\n",
              "      <td>Facebook</td>\n",
              "    </tr>\n",
              "    <tr>\n",
              "      <th>3</th>\n",
              "      <td>7980191</td>\n",
              "      <td>https://etc-ikjhg.wikaba.com/</td>\n",
              "      <td>http://www.phishtank.com/phish_detail.php?phis...</td>\n",
              "      <td>2022-12-17T17:10:53+00:00</td>\n",
              "      <td>yes</td>\n",
              "      <td>2022-12-20T14:51:48+00:00</td>\n",
              "      <td>yes</td>\n",
              "      <td>Other</td>\n",
              "    </tr>\n",
              "    <tr>\n",
              "      <th>4</th>\n",
              "      <td>8030149</td>\n",
              "      <td>http://6391a9e5-b39e-44dc-9ebe-2d768990df42.id...</td>\n",
              "      <td>http://www.phishtank.com/phish_detail.php?phis...</td>\n",
              "      <td>2023-02-08T15:27:42+00:00</td>\n",
              "      <td>yes</td>\n",
              "      <td>2023-02-08T16:12:48+00:00</td>\n",
              "      <td>yes</td>\n",
              "      <td>Other</td>\n",
              "    </tr>\n",
              "  </tbody>\n",
              "</table>\n",
              "</div>\n",
              "      <button class=\"colab-df-convert\" onclick=\"convertToInteractive('df-c0b18d80-a46a-4906-b8b6-1ed384a7020c')\"\n",
              "              title=\"Convert this dataframe to an interactive table.\"\n",
              "              style=\"display:none;\">\n",
              "        \n",
              "  <svg xmlns=\"http://www.w3.org/2000/svg\" height=\"24px\"viewBox=\"0 0 24 24\"\n",
              "       width=\"24px\">\n",
              "    <path d=\"M0 0h24v24H0V0z\" fill=\"none\"/>\n",
              "    <path d=\"M18.56 5.44l.94 2.06.94-2.06 2.06-.94-2.06-.94-.94-2.06-.94 2.06-2.06.94zm-11 1L8.5 8.5l.94-2.06 2.06-.94-2.06-.94L8.5 2.5l-.94 2.06-2.06.94zm10 10l.94 2.06.94-2.06 2.06-.94-2.06-.94-.94-2.06-.94 2.06-2.06.94z\"/><path d=\"M17.41 7.96l-1.37-1.37c-.4-.4-.92-.59-1.43-.59-.52 0-1.04.2-1.43.59L10.3 9.45l-7.72 7.72c-.78.78-.78 2.05 0 2.83L4 21.41c.39.39.9.59 1.41.59.51 0 1.02-.2 1.41-.59l7.78-7.78 2.81-2.81c.8-.78.8-2.07 0-2.86zM5.41 20L4 18.59l7.72-7.72 1.47 1.35L5.41 20z\"/>\n",
              "  </svg>\n",
              "      </button>\n",
              "      \n",
              "  <style>\n",
              "    .colab-df-container {\n",
              "      display:flex;\n",
              "      flex-wrap:wrap;\n",
              "      gap: 12px;\n",
              "    }\n",
              "\n",
              "    .colab-df-convert {\n",
              "      background-color: #E8F0FE;\n",
              "      border: none;\n",
              "      border-radius: 50%;\n",
              "      cursor: pointer;\n",
              "      display: none;\n",
              "      fill: #1967D2;\n",
              "      height: 32px;\n",
              "      padding: 0 0 0 0;\n",
              "      width: 32px;\n",
              "    }\n",
              "\n",
              "    .colab-df-convert:hover {\n",
              "      background-color: #E2EBFA;\n",
              "      box-shadow: 0px 1px 2px rgba(60, 64, 67, 0.3), 0px 1px 3px 1px rgba(60, 64, 67, 0.15);\n",
              "      fill: #174EA6;\n",
              "    }\n",
              "\n",
              "    [theme=dark] .colab-df-convert {\n",
              "      background-color: #3B4455;\n",
              "      fill: #D2E3FC;\n",
              "    }\n",
              "\n",
              "    [theme=dark] .colab-df-convert:hover {\n",
              "      background-color: #434B5C;\n",
              "      box-shadow: 0px 1px 3px 1px rgba(0, 0, 0, 0.15);\n",
              "      filter: drop-shadow(0px 1px 2px rgba(0, 0, 0, 0.3));\n",
              "      fill: #FFFFFF;\n",
              "    }\n",
              "  </style>\n",
              "\n",
              "      <script>\n",
              "        const buttonEl =\n",
              "          document.querySelector('#df-c0b18d80-a46a-4906-b8b6-1ed384a7020c button.colab-df-convert');\n",
              "        buttonEl.style.display =\n",
              "          google.colab.kernel.accessAllowed ? 'block' : 'none';\n",
              "\n",
              "        async function convertToInteractive(key) {\n",
              "          const element = document.querySelector('#df-c0b18d80-a46a-4906-b8b6-1ed384a7020c');\n",
              "          const dataTable =\n",
              "            await google.colab.kernel.invokeFunction('convertToInteractive',\n",
              "                                                     [key], {});\n",
              "          if (!dataTable) return;\n",
              "\n",
              "          const docLinkHtml = 'Like what you see? Visit the ' +\n",
              "            '<a target=\"_blank\" href=https://colab.research.google.com/notebooks/data_table.ipynb>data table notebook</a>'\n",
              "            + ' to learn more about interactive tables.';\n",
              "          element.innerHTML = '';\n",
              "          dataTable['output_type'] = 'display_data';\n",
              "          await google.colab.output.renderOutput(dataTable, element);\n",
              "          const docLink = document.createElement('div');\n",
              "          docLink.innerHTML = docLinkHtml;\n",
              "          element.appendChild(docLink);\n",
              "        }\n",
              "      </script>\n",
              "    </div>\n",
              "  </div>\n",
              "  "
            ]
          },
          "metadata": {},
          "execution_count": 13
        }
      ]
    },
    {
      "cell_type": "code",
      "metadata": {
        "id": "-FOfv0bspc8N",
        "outputId": "af67abd3-a0e8-4759-816a-ddc5990fa6c9",
        "colab": {
          "base_uri": "https://localhost:8080/"
        }
      },
      "source": [
        "phishurl.shape"
      ],
      "execution_count": null,
      "outputs": [
        {
          "output_type": "execute_result",
          "data": {
            "text/plain": [
              "(5000, 8)"
            ]
          },
          "metadata": {},
          "execution_count": 14
        }
      ]
    },
    {
      "cell_type": "markdown",
      "metadata": {
        "id": "Sb4afcd5pges"
      },
      "source": [
        "As of now we collected 5000 phishing URLs. Now, we need to collect the legitimate URLs.\n",
        "\n",
        "## **2.2. Legitimate URLs:**\n",
        "\n",
        "From the uploaded *Benign_list_big_final.csv* file, the URLs are loaded into a dataframe."
      ]
    },
    {
      "cell_type": "code",
      "metadata": {
        "id": "0wkw4wGAsIbT",
        "outputId": "d6bef430-3c73-480d-c7d5-6e5c1acf07fd",
        "colab": {
          "base_uri": "https://localhost:8080/",
          "height": 206
        }
      },
      "source": [
        "#Loading legitimate files\n",
        "data1 = pd.read_csv('/content/1.Benign_list_big_final.csv')\n",
        "data1.columns = ['URLs']\n",
        "data1.head()"
      ],
      "execution_count": null,
      "outputs": [
        {
          "output_type": "execute_result",
          "data": {
            "text/plain": [
              "                                                URLs\n",
              "0  http://1337x.to/torrent/1110018/Blackhat-2015-...\n",
              "1  http://1337x.to/torrent/1122940/Blackhat-2015-...\n",
              "2  http://1337x.to/torrent/1124395/Fast-and-Furio...\n",
              "3  http://1337x.to/torrent/1145504/Avengers-Age-o...\n",
              "4  http://1337x.to/torrent/1160078/Avengers-age-o..."
            ],
            "text/html": [
              "\n",
              "  <div id=\"df-28de6452-4b22-4daf-b7ea-89616eb39635\">\n",
              "    <div class=\"colab-df-container\">\n",
              "      <div>\n",
              "<style scoped>\n",
              "    .dataframe tbody tr th:only-of-type {\n",
              "        vertical-align: middle;\n",
              "    }\n",
              "\n",
              "    .dataframe tbody tr th {\n",
              "        vertical-align: top;\n",
              "    }\n",
              "\n",
              "    .dataframe thead th {\n",
              "        text-align: right;\n",
              "    }\n",
              "</style>\n",
              "<table border=\"1\" class=\"dataframe\">\n",
              "  <thead>\n",
              "    <tr style=\"text-align: right;\">\n",
              "      <th></th>\n",
              "      <th>URLs</th>\n",
              "    </tr>\n",
              "  </thead>\n",
              "  <tbody>\n",
              "    <tr>\n",
              "      <th>0</th>\n",
              "      <td>http://1337x.to/torrent/1110018/Blackhat-2015-...</td>\n",
              "    </tr>\n",
              "    <tr>\n",
              "      <th>1</th>\n",
              "      <td>http://1337x.to/torrent/1122940/Blackhat-2015-...</td>\n",
              "    </tr>\n",
              "    <tr>\n",
              "      <th>2</th>\n",
              "      <td>http://1337x.to/torrent/1124395/Fast-and-Furio...</td>\n",
              "    </tr>\n",
              "    <tr>\n",
              "      <th>3</th>\n",
              "      <td>http://1337x.to/torrent/1145504/Avengers-Age-o...</td>\n",
              "    </tr>\n",
              "    <tr>\n",
              "      <th>4</th>\n",
              "      <td>http://1337x.to/torrent/1160078/Avengers-age-o...</td>\n",
              "    </tr>\n",
              "  </tbody>\n",
              "</table>\n",
              "</div>\n",
              "      <button class=\"colab-df-convert\" onclick=\"convertToInteractive('df-28de6452-4b22-4daf-b7ea-89616eb39635')\"\n",
              "              title=\"Convert this dataframe to an interactive table.\"\n",
              "              style=\"display:none;\">\n",
              "        \n",
              "  <svg xmlns=\"http://www.w3.org/2000/svg\" height=\"24px\"viewBox=\"0 0 24 24\"\n",
              "       width=\"24px\">\n",
              "    <path d=\"M0 0h24v24H0V0z\" fill=\"none\"/>\n",
              "    <path d=\"M18.56 5.44l.94 2.06.94-2.06 2.06-.94-2.06-.94-.94-2.06-.94 2.06-2.06.94zm-11 1L8.5 8.5l.94-2.06 2.06-.94-2.06-.94L8.5 2.5l-.94 2.06-2.06.94zm10 10l.94 2.06.94-2.06 2.06-.94-2.06-.94-.94-2.06-.94 2.06-2.06.94z\"/><path d=\"M17.41 7.96l-1.37-1.37c-.4-.4-.92-.59-1.43-.59-.52 0-1.04.2-1.43.59L10.3 9.45l-7.72 7.72c-.78.78-.78 2.05 0 2.83L4 21.41c.39.39.9.59 1.41.59.51 0 1.02-.2 1.41-.59l7.78-7.78 2.81-2.81c.8-.78.8-2.07 0-2.86zM5.41 20L4 18.59l7.72-7.72 1.47 1.35L5.41 20z\"/>\n",
              "  </svg>\n",
              "      </button>\n",
              "      \n",
              "  <style>\n",
              "    .colab-df-container {\n",
              "      display:flex;\n",
              "      flex-wrap:wrap;\n",
              "      gap: 12px;\n",
              "    }\n",
              "\n",
              "    .colab-df-convert {\n",
              "      background-color: #E8F0FE;\n",
              "      border: none;\n",
              "      border-radius: 50%;\n",
              "      cursor: pointer;\n",
              "      display: none;\n",
              "      fill: #1967D2;\n",
              "      height: 32px;\n",
              "      padding: 0 0 0 0;\n",
              "      width: 32px;\n",
              "    }\n",
              "\n",
              "    .colab-df-convert:hover {\n",
              "      background-color: #E2EBFA;\n",
              "      box-shadow: 0px 1px 2px rgba(60, 64, 67, 0.3), 0px 1px 3px 1px rgba(60, 64, 67, 0.15);\n",
              "      fill: #174EA6;\n",
              "    }\n",
              "\n",
              "    [theme=dark] .colab-df-convert {\n",
              "      background-color: #3B4455;\n",
              "      fill: #D2E3FC;\n",
              "    }\n",
              "\n",
              "    [theme=dark] .colab-df-convert:hover {\n",
              "      background-color: #434B5C;\n",
              "      box-shadow: 0px 1px 3px 1px rgba(0, 0, 0, 0.15);\n",
              "      filter: drop-shadow(0px 1px 2px rgba(0, 0, 0, 0.3));\n",
              "      fill: #FFFFFF;\n",
              "    }\n",
              "  </style>\n",
              "\n",
              "      <script>\n",
              "        const buttonEl =\n",
              "          document.querySelector('#df-28de6452-4b22-4daf-b7ea-89616eb39635 button.colab-df-convert');\n",
              "        buttonEl.style.display =\n",
              "          google.colab.kernel.accessAllowed ? 'block' : 'none';\n",
              "\n",
              "        async function convertToInteractive(key) {\n",
              "          const element = document.querySelector('#df-28de6452-4b22-4daf-b7ea-89616eb39635');\n",
              "          const dataTable =\n",
              "            await google.colab.kernel.invokeFunction('convertToInteractive',\n",
              "                                                     [key], {});\n",
              "          if (!dataTable) return;\n",
              "\n",
              "          const docLinkHtml = 'Like what you see? Visit the ' +\n",
              "            '<a target=\"_blank\" href=https://colab.research.google.com/notebooks/data_table.ipynb>data table notebook</a>'\n",
              "            + ' to learn more about interactive tables.';\n",
              "          element.innerHTML = '';\n",
              "          dataTable['output_type'] = 'display_data';\n",
              "          await google.colab.output.renderOutput(dataTable, element);\n",
              "          const docLink = document.createElement('div');\n",
              "          docLink.innerHTML = docLinkHtml;\n",
              "          element.appendChild(docLink);\n",
              "        }\n",
              "      </script>\n",
              "    </div>\n",
              "  </div>\n",
              "  "
            ]
          },
          "metadata": {},
          "execution_count": 15
        }
      ]
    },
    {
      "cell_type": "markdown",
      "metadata": {
        "id": "MdvE4YfWtCJr"
      },
      "source": [
        "As stated above, 5000 legitimate URLs are randomaly picked from the above dataframe."
      ]
    },
    {
      "cell_type": "code",
      "metadata": {
        "id": "EQRtf9Ybs5sv",
        "outputId": "b2b9f6cd-e1a2-4083-a0ad-92cb6f804a60",
        "colab": {
          "base_uri": "https://localhost:8080/",
          "height": 206
        }
      },
      "source": [
        "#Collecting 5,000 Legitimate URLs randomly\n",
        "legiurl = data1.sample(n = 5000, random_state = 12).copy()\n",
        "legiurl = legiurl.reset_index(drop=True)\n",
        "legiurl.head()"
      ],
      "execution_count": null,
      "outputs": [
        {
          "output_type": "execute_result",
          "data": {
            "text/plain": [
              "                                                URLs\n",
              "0  http://graphicriver.net/search?date=this-month...\n",
              "1  http://ecnavi.jp/redirect/?url=http://www.cros...\n",
              "2  https://hubpages.com/signin?explain=follow+Hub...\n",
              "3  http://extratorrent.cc/torrent/4190536/AOMEI+B...\n",
              "4  http://icicibank.com/Personal-Banking/offers/o..."
            ],
            "text/html": [
              "\n",
              "  <div id=\"df-02c5b0fa-18ea-4212-abb7-5b3cea213726\">\n",
              "    <div class=\"colab-df-container\">\n",
              "      <div>\n",
              "<style scoped>\n",
              "    .dataframe tbody tr th:only-of-type {\n",
              "        vertical-align: middle;\n",
              "    }\n",
              "\n",
              "    .dataframe tbody tr th {\n",
              "        vertical-align: top;\n",
              "    }\n",
              "\n",
              "    .dataframe thead th {\n",
              "        text-align: right;\n",
              "    }\n",
              "</style>\n",
              "<table border=\"1\" class=\"dataframe\">\n",
              "  <thead>\n",
              "    <tr style=\"text-align: right;\">\n",
              "      <th></th>\n",
              "      <th>URLs</th>\n",
              "    </tr>\n",
              "  </thead>\n",
              "  <tbody>\n",
              "    <tr>\n",
              "      <th>0</th>\n",
              "      <td>http://graphicriver.net/search?date=this-month...</td>\n",
              "    </tr>\n",
              "    <tr>\n",
              "      <th>1</th>\n",
              "      <td>http://ecnavi.jp/redirect/?url=http://www.cros...</td>\n",
              "    </tr>\n",
              "    <tr>\n",
              "      <th>2</th>\n",
              "      <td>https://hubpages.com/signin?explain=follow+Hub...</td>\n",
              "    </tr>\n",
              "    <tr>\n",
              "      <th>3</th>\n",
              "      <td>http://extratorrent.cc/torrent/4190536/AOMEI+B...</td>\n",
              "    </tr>\n",
              "    <tr>\n",
              "      <th>4</th>\n",
              "      <td>http://icicibank.com/Personal-Banking/offers/o...</td>\n",
              "    </tr>\n",
              "  </tbody>\n",
              "</table>\n",
              "</div>\n",
              "      <button class=\"colab-df-convert\" onclick=\"convertToInteractive('df-02c5b0fa-18ea-4212-abb7-5b3cea213726')\"\n",
              "              title=\"Convert this dataframe to an interactive table.\"\n",
              "              style=\"display:none;\">\n",
              "        \n",
              "  <svg xmlns=\"http://www.w3.org/2000/svg\" height=\"24px\"viewBox=\"0 0 24 24\"\n",
              "       width=\"24px\">\n",
              "    <path d=\"M0 0h24v24H0V0z\" fill=\"none\"/>\n",
              "    <path d=\"M18.56 5.44l.94 2.06.94-2.06 2.06-.94-2.06-.94-.94-2.06-.94 2.06-2.06.94zm-11 1L8.5 8.5l.94-2.06 2.06-.94-2.06-.94L8.5 2.5l-.94 2.06-2.06.94zm10 10l.94 2.06.94-2.06 2.06-.94-2.06-.94-.94-2.06-.94 2.06-2.06.94z\"/><path d=\"M17.41 7.96l-1.37-1.37c-.4-.4-.92-.59-1.43-.59-.52 0-1.04.2-1.43.59L10.3 9.45l-7.72 7.72c-.78.78-.78 2.05 0 2.83L4 21.41c.39.39.9.59 1.41.59.51 0 1.02-.2 1.41-.59l7.78-7.78 2.81-2.81c.8-.78.8-2.07 0-2.86zM5.41 20L4 18.59l7.72-7.72 1.47 1.35L5.41 20z\"/>\n",
              "  </svg>\n",
              "      </button>\n",
              "      \n",
              "  <style>\n",
              "    .colab-df-container {\n",
              "      display:flex;\n",
              "      flex-wrap:wrap;\n",
              "      gap: 12px;\n",
              "    }\n",
              "\n",
              "    .colab-df-convert {\n",
              "      background-color: #E8F0FE;\n",
              "      border: none;\n",
              "      border-radius: 50%;\n",
              "      cursor: pointer;\n",
              "      display: none;\n",
              "      fill: #1967D2;\n",
              "      height: 32px;\n",
              "      padding: 0 0 0 0;\n",
              "      width: 32px;\n",
              "    }\n",
              "\n",
              "    .colab-df-convert:hover {\n",
              "      background-color: #E2EBFA;\n",
              "      box-shadow: 0px 1px 2px rgba(60, 64, 67, 0.3), 0px 1px 3px 1px rgba(60, 64, 67, 0.15);\n",
              "      fill: #174EA6;\n",
              "    }\n",
              "\n",
              "    [theme=dark] .colab-df-convert {\n",
              "      background-color: #3B4455;\n",
              "      fill: #D2E3FC;\n",
              "    }\n",
              "\n",
              "    [theme=dark] .colab-df-convert:hover {\n",
              "      background-color: #434B5C;\n",
              "      box-shadow: 0px 1px 3px 1px rgba(0, 0, 0, 0.15);\n",
              "      filter: drop-shadow(0px 1px 2px rgba(0, 0, 0, 0.3));\n",
              "      fill: #FFFFFF;\n",
              "    }\n",
              "  </style>\n",
              "\n",
              "      <script>\n",
              "        const buttonEl =\n",
              "          document.querySelector('#df-02c5b0fa-18ea-4212-abb7-5b3cea213726 button.colab-df-convert');\n",
              "        buttonEl.style.display =\n",
              "          google.colab.kernel.accessAllowed ? 'block' : 'none';\n",
              "\n",
              "        async function convertToInteractive(key) {\n",
              "          const element = document.querySelector('#df-02c5b0fa-18ea-4212-abb7-5b3cea213726');\n",
              "          const dataTable =\n",
              "            await google.colab.kernel.invokeFunction('convertToInteractive',\n",
              "                                                     [key], {});\n",
              "          if (!dataTable) return;\n",
              "\n",
              "          const docLinkHtml = 'Like what you see? Visit the ' +\n",
              "            '<a target=\"_blank\" href=https://colab.research.google.com/notebooks/data_table.ipynb>data table notebook</a>'\n",
              "            + ' to learn more about interactive tables.';\n",
              "          element.innerHTML = '';\n",
              "          dataTable['output_type'] = 'display_data';\n",
              "          await google.colab.output.renderOutput(dataTable, element);\n",
              "          const docLink = document.createElement('div');\n",
              "          docLink.innerHTML = docLinkHtml;\n",
              "          element.appendChild(docLink);\n",
              "        }\n",
              "      </script>\n",
              "    </div>\n",
              "  </div>\n",
              "  "
            ]
          },
          "metadata": {},
          "execution_count": 16
        }
      ]
    },
    {
      "cell_type": "code",
      "metadata": {
        "id": "QrpSRXzDuKwW",
        "outputId": "48b18853-bcb4-4773-b1fb-165dae37052c",
        "colab": {
          "base_uri": "https://localhost:8080/"
        }
      },
      "source": [
        "legiurl.shape"
      ],
      "execution_count": null,
      "outputs": [
        {
          "output_type": "execute_result",
          "data": {
            "text/plain": [
              "(5000, 1)"
            ]
          },
          "metadata": {},
          "execution_count": 17
        }
      ]
    },
    {
      "cell_type": "markdown",
      "metadata": {
        "id": "xbzZbsWIEV6J"
      },
      "source": [
        "# **3. Feature Extraction:**\n",
        "\n",
        "In this step, features are extracted from the URLs dataset.\n",
        "\n",
        "The extracted features are categorized into\n",
        "\n",
        "\n",
        "1.   Address Bar based Features\n",
        "2.   Domain based Features\n",
        "3.   HTML & Javascript based Features\n",
        "\n"
      ]
    },
    {
      "cell_type": "markdown",
      "metadata": {
        "id": "vABNo39RQljI"
      },
      "source": [
        "### **3.1. Address Bar Based Features:**\n",
        "\n",
        "Many features can be extracted that can be consided as address bar base features. Out of them, below mentioned were considered for this project.\n",
        "\n",
        "\n",
        "*   Domain of URL\n",
        "*   IP Address in URL\n",
        "*   \"@\" Symbol in URL\n",
        "*   Length of URL\n",
        "*   Depth of URL\n",
        "*   Redirection \"//\" in URL\n",
        "*   \"http/https\" in Domain name\n",
        "*   Using URL Shortening Services “TinyURL”\n",
        "*   Prefix or Suffix \"-\" in Domain\n",
        "\n",
        "Each of these features are explained and the coded below:"
      ]
    },
    {
      "cell_type": "code",
      "metadata": {
        "id": "Rk4HFWsEKXpS"
      },
      "source": [
        "# importing required packages for this section\n",
        "from urllib.parse import urlparse,urlencode\n",
        "import ipaddress\n",
        "import re"
      ],
      "execution_count": null,
      "outputs": []
    },
    {
      "cell_type": "markdown",
      "metadata": {
        "id": "xd-UZd3c60-a"
      },
      "source": [
        "#### **3.1.1. Domain of the URL**\n",
        "Here, we are just extracting the domain present in the URL. This feature doesn't have much significance in the training. May even be dropped while training the model."
      ]
    },
    {
      "cell_type": "code",
      "metadata": {
        "id": "S0QorYenhaOD"
      },
      "source": [
        "# 1.Domain of the URL (Domain)\n",
        "def getDomain(url):\n",
        "  domain = urlparse(url).netloc\n",
        "  if re.match(r\"^www.\",domain):\n",
        "\t       domain = domain.replace(\"www.\",\"\")\n",
        "  return domain"
      ],
      "execution_count": null,
      "outputs": []
    },
    {
      "cell_type": "markdown",
      "metadata": {
        "id": "1EPO6HJ87Pdv"
      },
      "source": [
        "#### **3.1.2. IP Address in the URL**\n",
        "\n",
        "Checks for the presence of IP address in the URL. URLs may have IP address instead of domain name. If an IP address is used as an alternative of the domain name in the URL, we can be sure that someone is trying to steal personal information with this URL.\n",
        "\n",
        "If the domain part of URL has IP address, the value assigned to this feature is 1 (phishing) or else 0 (legitimate).\n",
        "\n"
      ]
    },
    {
      "cell_type": "code",
      "metadata": {
        "id": "SX-4mbq27QBj"
      },
      "source": [
        "# 2.Checks for IP address in URL (Have_IP)\n",
        "def havingIP(url):\n",
        "  try:\n",
        "    ipaddress.ip_address(url)\n",
        "    ip = 1\n",
        "  except:\n",
        "    ip = 0\n",
        "  return ip\n"
      ],
      "execution_count": null,
      "outputs": []
    },
    {
      "cell_type": "markdown",
      "metadata": {
        "id": "Vcy-zay47S-q"
      },
      "source": [
        "#### **3.1.3. \"@\" Symbol in URL**\n",
        "\n",
        "Checks for the presence of '@' symbol in the URL. Using “@” symbol in the URL leads the browser to ignore everything preceding the “@” symbol and the real address often follows the “@” symbol.\n",
        "\n",
        "If the URL has '@' symbol, the value assigned to this feature is 1 (phishing) or else 0 (legitimate)."
      ]
    },
    {
      "cell_type": "code",
      "metadata": {
        "id": "XZQZi3K17TcR"
      },
      "source": [
        "# 3.Checks the presence of @ in URL (Have_At)\n",
        "def haveAtSign(url):\n",
        "  if \"@\" in url:\n",
        "    at = 1\n",
        "  else:\n",
        "    at = 0\n",
        "  return at"
      ],
      "execution_count": null,
      "outputs": []
    },
    {
      "cell_type": "markdown",
      "metadata": {
        "id": "mhFeCv2N9KLU"
      },
      "source": [
        "#### **3.1.4. Length of URL**\n",
        "\n",
        "Computes the length of the URL. Phishers can use long URL to hide the doubtful part in the address bar. In this project, if the length of the URL is greater than or equal 54 characters then the URL classified as phishing otherwise legitimate.\n",
        "\n",
        "If the length of URL >= 54 , the value assigned to this feature is 1 (phishing) or else 0 (legitimate)."
      ]
    },
    {
      "cell_type": "code",
      "metadata": {
        "id": "fnQazil39Kra"
      },
      "source": [
        "# 4.Finding the length of URL and categorizing (URL_Length)\n",
        "def getLength(url):\n",
        "  if len(url) < 54:\n",
        "    length = 0\n",
        "  else:\n",
        "    length = 1\n",
        "  return length"
      ],
      "execution_count": null,
      "outputs": []
    },
    {
      "cell_type": "markdown",
      "metadata": {
        "id": "8ICyOWg59LHt"
      },
      "source": [
        "#### **3.1.5. Depth of URL**\n",
        "\n",
        "Computes the depth of the URL. This feature calculates the number of sub pages in the given url based on the '/'.\n",
        "\n",
        "The value of feature is a numerical based on the URL."
      ]
    },
    {
      "cell_type": "code",
      "metadata": {
        "id": "yILgNFf_9L3X"
      },
      "source": [
        "# 5.Gives number of '/' in URL (URL_Depth)\n",
        "def getDepth(url):\n",
        "  s = urlparse(url).path.split('/')\n",
        "  depth = 0\n",
        "  for j in range(len(s)):\n",
        "    if len(s[j]) != 0:\n",
        "      depth = depth+1\n",
        "  return depth"
      ],
      "execution_count": null,
      "outputs": []
    },
    {
      "cell_type": "markdown",
      "metadata": {
        "id": "T5-eL0bBBRdx"
      },
      "source": [
        "#### **3.1.6. Redirection \"//\" in URL**\n",
        "\n",
        "Checks the presence of \"//\" in the URL. The existence of “//” within the URL path means that the user will be redirected to another website. The location of the “//” in URL is computed. We find that if the URL starts with “HTTP”, that means the “//” should appear in the sixth position. However, if the URL employs “HTTPS” then the “//” should appear in seventh position.\n",
        "\n",
        "If the \"//\" is anywhere in the URL apart from after the protocal, thee value assigned to this feature is 1 (phishing) or else 0 (legitimate)."
      ]
    },
    {
      "cell_type": "code",
      "metadata": {
        "id": "RIJEiq51BSy0"
      },
      "source": [
        "# 6.Checking for redirection '//' in the url (Redirection)\n",
        "def redirection(url):\n",
        "  pos = url.rfind('//')\n",
        "  if pos > 6:\n",
        "    if pos > 7:\n",
        "      return 1\n",
        "    else:\n",
        "      return 0\n",
        "  else:\n",
        "    return 0"
      ],
      "execution_count": null,
      "outputs": []
    },
    {
      "cell_type": "markdown",
      "metadata": {
        "id": "hHWQDIrtBa7n"
      },
      "source": [
        "#### **3.1.7. \"http/https\" in Domain name**\n",
        "\n",
        "Checks for the presence of \"http/https\" in the domain part of the URL. The phishers may add the “HTTPS” token to the domain part of a URL in order to trick users.\n",
        "\n",
        "If the URL has \"http/https\" in the domain part, the value assigned to this feature is 1 (phishing) or else 0 (legitimate)."
      ]
    },
    {
      "cell_type": "code",
      "metadata": {
        "id": "h2vW23O1BbWl"
      },
      "source": [
        "# 7.Existence of “HTTPS” Token in the Domain Part of the URL (https_Domain)\n",
        "def httpDomain(url):\n",
        "  domain = urlparse(url).netloc\n",
        "  if 'https' in domain:\n",
        "    return 1\n",
        "  else:\n",
        "    return 0"
      ],
      "execution_count": null,
      "outputs": []
    },
    {
      "cell_type": "markdown",
      "metadata": {
        "id": "rKL4jpeaPIvA"
      },
      "source": [
        "#### **3.1.8. Using URL Shortening Services “TinyURL”**\n",
        "\n",
        "URL shortening is a method on the “World Wide Web” in which a URL may be made considerably smaller in length and still lead to the required webpage. This is accomplished by means of an “HTTP Redirect” on a domain name that is short, which links to the webpage that has a long URL.\n",
        "\n",
        "If the URL is using Shortening Services, the value assigned to this feature is 1 (phishing) or else 0 (legitimate)."
      ]
    },
    {
      "cell_type": "code",
      "metadata": {
        "id": "UdC9pUdTAVRU"
      },
      "source": [
        "#listing shortening services\n",
        "shortening_services = r\"bit\\.ly|goo\\.gl|shorte\\.st|go2l\\.ink|x\\.co|ow\\.ly|t\\.co|tinyurl|tr\\.im|is\\.gd|cli\\.gs|\" \\\n",
        "                      r\"yfrog\\.com|migre\\.me|ff\\.im|tiny\\.cc|url4\\.eu|twit\\.ac|su\\.pr|twurl\\.nl|snipurl\\.com|\" \\\n",
        "                      r\"short\\.to|BudURL\\.com|ping\\.fm|post\\.ly|Just\\.as|bkite\\.com|snipr\\.com|fic\\.kr|loopt\\.us|\" \\\n",
        "                      r\"doiop\\.com|short\\.ie|kl\\.am|wp\\.me|rubyurl\\.com|om\\.ly|to\\.ly|bit\\.do|t\\.co|lnkd\\.in|db\\.tt|\" \\\n",
        "                      r\"qr\\.ae|adf\\.ly|goo\\.gl|bitly\\.com|cur\\.lv|tinyurl\\.com|ow\\.ly|bit\\.ly|ity\\.im|q\\.gs|is\\.gd|\" \\\n",
        "                      r\"po\\.st|bc\\.vc|twitthis\\.com|u\\.to|j\\.mp|buzurl\\.com|cutt\\.us|u\\.bb|yourls\\.org|x\\.co|\" \\\n",
        "                      r\"prettylinkpro\\.com|scrnch\\.me|filoops\\.info|vzturl\\.com|qr\\.net|1url\\.com|tweez\\.me|v\\.gd|\" \\\n",
        "                      r\"tr\\.im|link\\.zip\\.net\""
      ],
      "execution_count": null,
      "outputs": []
    },
    {
      "cell_type": "code",
      "metadata": {
        "id": "IUkU9UbbnKpY"
      },
      "source": [
        "# 8. Checking for Shortening Services in URL (Tiny_URL)\n",
        "def tinyURL(url):\n",
        "    match=re.search(shortening_services,url)\n",
        "    if match:\n",
        "        return 1\n",
        "    else:\n",
        "        return 0"
      ],
      "execution_count": null,
      "outputs": []
    },
    {
      "cell_type": "markdown",
      "metadata": {
        "id": "HS-BuQJzPkaZ"
      },
      "source": [
        "#### **3.1.9. Prefix or Suffix \"-\" in Domain**\n",
        "\n",
        "Checking the presence of '-' in the domain part of URL. The dash symbol is rarely used in legitimate URLs. Phishers tend to add prefixes or suffixes separated by (-) to the domain name so that users feel that they are dealing with a legitimate webpage.\n",
        "\n",
        "If the URL has '-' symbol in the domain part of the URL, the value assigned to this feature is 1 (phishing) or else 0 (legitimate)."
      ]
    },
    {
      "cell_type": "code",
      "metadata": {
        "id": "vLyjiIUgPjuw"
      },
      "source": [
        "# 9.Checking for Prefix or Suffix Separated by (-) in the Domain (Prefix/Suffix)\n",
        "def prefixSuffix(url):\n",
        "    if '-' in urlparse(url).netloc:\n",
        "        return 1            # phishing\n",
        "    else:\n",
        "        return 0            # legitimate"
      ],
      "execution_count": null,
      "outputs": []
    },
    {
      "cell_type": "markdown",
      "metadata": {
        "id": "zO485F_BPk-k"
      },
      "source": [
        "### **3.2. Domain Based Features:**\n",
        "\n",
        "Many features can be extracted that come under this category. Out of them, below mentioned were considered for this project.\n",
        "\n",
        "*   DNS Record\n",
        "*   Age of Domain\n",
        "*   End Period of Domain\n",
        "\n",
        "Each of these features are explained and the coded below:"
      ]
    },
    {
      "cell_type": "code",
      "metadata": {
        "id": "NbkEYJ_JOVa7",
        "outputId": "ad344467-7911-4902-8740-7ff03066c94c",
        "colab": {
          "base_uri": "https://localhost:8080/"
        }
      },
      "source": [
        "!pip install python-whois"
      ],
      "execution_count": null,
      "outputs": [
        {
          "output_type": "stream",
          "name": "stdout",
          "text": [
            "Looking in indexes: https://pypi.org/simple, https://us-python.pkg.dev/colab-wheels/public/simple/\n",
            "Collecting python-whois\n",
            "  Downloading python-whois-0.8.0.tar.gz (109 kB)\n",
            "\u001b[2K     \u001b[90m━━━━━━━━━━━━━━━━━━━━━━━━━━━━━━━━━━━━━━━\u001b[0m \u001b[32m109.6/109.6 kB\u001b[0m \u001b[31m6.0 MB/s\u001b[0m eta \u001b[36m0:00:00\u001b[0m\n",
            "\u001b[?25h  Preparing metadata (setup.py) ... \u001b[?25l\u001b[?25hdone\n",
            "Requirement already satisfied: future in /usr/local/lib/python3.9/dist-packages (from python-whois) (0.18.3)\n",
            "Building wheels for collected packages: python-whois\n",
            "  Building wheel for python-whois (setup.py) ... \u001b[?25l\u001b[?25hdone\n",
            "  Created wheel for python-whois: filename=python_whois-0.8.0-py3-none-any.whl size=103262 sha256=e27452d487579162a2b61a10212443f402f436891aa12a94b2933fe14659d4f6\n",
            "  Stored in directory: /root/.cache/pip/wheels/e6/e9/d3/1e41a6c95b398de12c5a332ff28805aa44e68aa317ea60266d\n",
            "Successfully built python-whois\n",
            "Installing collected packages: python-whois\n",
            "Successfully installed python-whois-0.8.0\n"
          ]
        }
      ]
    },
    {
      "cell_type": "code",
      "metadata": {
        "id": "esZ7FcvlOMZu"
      },
      "source": [
        "# importing required packages for this section\n",
        "import re\n",
        "from bs4 import BeautifulSoup\n",
        "import whois\n",
        "import urllib\n",
        "import urllib.request\n",
        "from datetime import datetime"
      ],
      "execution_count": null,
      "outputs": []
    },
    {
      "cell_type": "markdown",
      "metadata": {
        "id": "4ExXkkXYZWWZ"
      },
      "source": [
        "#### **3.2.1. DNS Record**\n",
        "\n",
        "For phishing websites, either the claimed identity is not recognized by the WHOIS database or no records founded for the hostname.\n",
        "If the DNS record is empty or not found then, the value assigned to this feature is 1 (phishing) or else 0 (legitimate)."
      ]
    },
    {
      "cell_type": "code",
      "metadata": {
        "id": "8O5D1jH0IDgf"
      },
      "source": [
        "# 11.DNS Record availability (DNS_Record)\n",
        "# obtained in the featureExtraction function itself"
      ],
      "execution_count": null,
      "outputs": []
    },
    {
      "cell_type": "markdown",
      "metadata": {
        "id": "jKHhfv2AacXq"
      },
      "source": [
        "#### **3.2.2. Age of Domain**\n",
        "\n",
        "This feature can be extracted from WHOIS database. Most phishing websites live for a short period of time. The minimum age of the legitimate domain is considered to be 12 months for this project. Age here is nothing but different between creation and expiration time.\n",
        "\n",
        "If age of domain > 12 months, the vlaue of this feature is 1 (phishing) else 0 (legitimate)."
      ]
    },
    {
      "cell_type": "code",
      "metadata": {
        "id": "li03hqJgH__j"
      },
      "source": [
        "# 13.Survival time of domain: The difference between termination time and creation time (Domain_Age)\n",
        "def domainAge(domain_name):\n",
        "  creation_date = domain_name.creation_date\n",
        "  expiration_date = domain_name.expiration_date\n",
        "  if (isinstance(creation_date,str) or isinstance(expiration_date,str)):\n",
        "    try:\n",
        "      creation_date = datetime.strptime(creation_date,'%Y-%m-%d')\n",
        "      expiration_date = datetime.strptime(expiration_date,\"%Y-%m-%d\")\n",
        "    except:\n",
        "      return 1\n",
        "  if ((expiration_date is None) or (creation_date is None)):\n",
        "      return 1\n",
        "  elif ((type(expiration_date) is list) or (type(creation_date) is list)):\n",
        "      return 1\n",
        "  else:\n",
        "    ageofdomain = abs((expiration_date - creation_date).days)\n",
        "    if ((ageofdomain/30) < 6):\n",
        "      age = 1\n",
        "    else:\n",
        "      age = 0\n",
        "  return age"
      ],
      "execution_count": null,
      "outputs": []
    },
    {
      "cell_type": "markdown",
      "metadata": {
        "id": "AbjRrzA7aenm"
      },
      "source": [
        "#### **3.2.3. End Period of Domain**\n",
        "\n",
        "This feature can be extracted from WHOIS database. For this feature, the remaining domain time is calculated by finding the different between expiration time & current time. The end period considered for the legitimate domain is 6 months or less  for this project.\n",
        "\n",
        "If end period of domain > 6 months, the vlaue of this feature is 1 (phishing) else 0 (legitimate)."
      ]
    },
    {
      "cell_type": "code",
      "metadata": {
        "id": "NueO81-ttKYd"
      },
      "source": [
        "# 14.End time of domain: The difference between termination time and current time (Domain_End)\n",
        "def domainEnd(domain_name):\n",
        "  expiration_date = domain_name.expiration_date\n",
        "  if isinstance(expiration_date,str):\n",
        "    try:\n",
        "      expiration_date = datetime.strptime(expiration_date,\"%Y-%m-%d\")\n",
        "    except:\n",
        "      return 1\n",
        "  if (expiration_date is None):\n",
        "      return 1\n",
        "  elif (type(expiration_date) is list):\n",
        "      return 1\n",
        "  else:\n",
        "    today = datetime.now()\n",
        "    end = abs((expiration_date - today).days)\n",
        "    if ((end/30) < 6):\n",
        "      end = 0\n",
        "    else:\n",
        "      end = 1\n",
        "  return end"
      ],
      "execution_count": null,
      "outputs": []
    },
    {
      "cell_type": "markdown",
      "metadata": {
        "id": "Oln3Xj-9t-Y6"
      },
      "source": [
        "## **3.3. HTML and JavaScript based Features**\n",
        "\n",
        "Many features can be extracted that come under this category. Out of them, below mentioned were considered for this project.\n",
        "\n",
        "*   IFrame Redirection\n",
        "*   Status Bar Customization\n",
        "*   Disabling Right Click\n",
        "*   Website Forwarding\n",
        "\n",
        "Each of these features are explained and the coded below:"
      ]
    },
    {
      "cell_type": "code",
      "metadata": {
        "id": "lw0JmOGEQPwb"
      },
      "source": [
        "# importing required packages for this section\n",
        "import requests"
      ],
      "execution_count": null,
      "outputs": []
    },
    {
      "cell_type": "markdown",
      "metadata": {
        "id": "RES6bSWPy-Bj"
      },
      "source": [
        "### **3.3.1. IFrame Redirection**\n",
        "\n",
        "IFrame is an HTML tag used to display an additional webpage into one that is currently shown. Phishers can make use of the “iframe” tag and make it invisible i.e. without frame borders. In this regard, phishers make use of the “frameBorder” attribute which causes the browser to render a visual delineation.\n",
        "\n",
        "If the iframe is empty or repsonse is not found then, the value assigned to this feature is 1 (phishing) or else 0 (legitimate)."
      ]
    },
    {
      "cell_type": "code",
      "metadata": {
        "id": "F2gpZEMSQGpu"
      },
      "source": [
        "# 15. IFrame Redirection (iFrame)\n",
        "def iframe(response):\n",
        "  if response == \"\":\n",
        "      return 1\n",
        "  else:\n",
        "      if re.findall(r\"[<iframe>|<frameBorder>]\", response.text):\n",
        "          return 0\n",
        "      else:\n",
        "          return 1"
      ],
      "execution_count": null,
      "outputs": []
    },
    {
      "cell_type": "markdown",
      "metadata": {
        "id": "Ggh4ySE0BqjV"
      },
      "source": [
        "### **3.3.2. Status Bar Customization**\n",
        "\n",
        "Phishers may use JavaScript to show a fake URL in the status bar to users. To extract this feature, we must dig-out the webpage source code, particularly the “onMouseOver” event, and check if it makes any changes on the status bar\n",
        "\n",
        "If the response is empty or onmouseover is found then, the value assigned to this feature is 1 (phishing) or else 0 (legitimate)."
      ]
    },
    {
      "cell_type": "code",
      "metadata": {
        "id": "eapOq2afVGCF"
      },
      "source": [
        "# 16.Checks the effect of mouse over on status bar (Mouse_Over)\n",
        "def mouseOver(response):\n",
        "  if response == \"\" :\n",
        "    return 1\n",
        "  else:\n",
        "    if re.findall(\"<script>.+onmouseover.+</script>\", response.text):\n",
        "      return 1\n",
        "    else:\n",
        "      return 0"
      ],
      "execution_count": null,
      "outputs": []
    },
    {
      "cell_type": "markdown",
      "metadata": {
        "id": "IYgMTh1zBac9"
      },
      "source": [
        "### **3.3.3. Disabling Right Click**\n",
        "\n",
        "Phishers use JavaScript to disable the right-click function, so that users cannot view and save the webpage source code. This feature is treated exactly as “Using onMouseOver to hide the Link”. Nonetheless, for this feature, we will search for event “event.button==2” in the webpage source code and check if the right click is disabled.\n",
        "\n",
        "If the response is empty or onmouseover is not found then, the value assigned to this feature is 1 (phishing) or else 0 (legitimate).\n",
        "\n",
        "\n"
      ]
    },
    {
      "cell_type": "code",
      "metadata": {
        "id": "9x3lR3lFIVj2"
      },
      "source": [
        "# 17.Checks the status of the right click attribute (Right_Click)\n",
        "def rightClick(response):\n",
        "  if response == \"\":\n",
        "    return 1\n",
        "  else:\n",
        "    if re.findall(r\"event.button ?== ?2\", response.text):\n",
        "      return 0\n",
        "    else:\n",
        "      return 1"
      ],
      "execution_count": null,
      "outputs": []
    },
    {
      "cell_type": "markdown",
      "metadata": {
        "id": "1NAnYm0wKKRC"
      },
      "source": [
        "### **3.3.4. Website Forwarding**\n",
        "The fine line that distinguishes phishing websites from legitimate ones is how many times a website has been redirected. In our dataset, we find that legitimate websites have been redirected one time max. On the other hand, phishing websites containing this feature have been redirected at least 4 times.\n",
        "\n",
        "\n"
      ]
    },
    {
      "cell_type": "code",
      "metadata": {
        "id": "GkpLyDIpKK0W"
      },
      "source": [
        "# 18.Checks the number of forwardings (Web_Forwards)\n",
        "def forwarding(response):\n",
        "  if response == \"\":\n",
        "    return 1\n",
        "  else:\n",
        "    if len(response.history) <= 2:\n",
        "      return 0\n",
        "    else:\n",
        "      return 1"
      ],
      "execution_count": null,
      "outputs": []
    },
    {
      "cell_type": "markdown",
      "metadata": {
        "id": "AVtp7WtjdIfv"
      },
      "source": [
        "## **4. Computing URL Features**\n",
        "\n",
        "Create a list and a function that calls the other functions and stores all the features of the URL in the list. We will extract the features of each URL and append to this list."
      ]
    },
    {
      "cell_type": "code",
      "metadata": {
        "id": "8GzyvCg2rzWU"
      },
      "source": [
        "#Function to extract features\n",
        "def featureExtraction(url,label):\n",
        "\n",
        "  features = []\n",
        "  #Address bar based features (10)\n",
        "  features.append(getDomain(url))\n",
        "  features.append(havingIP(url))\n",
        "  features.append(haveAtSign(url))\n",
        "  features.append(getLength(url))\n",
        "  features.append(getDepth(url))\n",
        "  features.append(redirection(url))\n",
        "  features.append(httpDomain(url))\n",
        "  features.append(tinyURL(url))\n",
        "  features.append(prefixSuffix(url))\n",
        "\n",
        "  #Domain based features (4)\n",
        "  dns = 0\n",
        "  try:\n",
        "    domain_name = whois.whois(urlparse(url).netloc)\n",
        "  except:\n",
        "    dns = 1\n",
        "\n",
        "  features.append(dns)\n",
        "  features.append(1 if dns == 1 else domainAge(domain_name))\n",
        "  features.append(1 if dns == 1 else domainEnd(domain_name))\n",
        "\n",
        "  # HTML & Javascript based features (4)\n",
        "  try:\n",
        "    response = requests.get(url)\n",
        "  except:\n",
        "    response = \"\"\n",
        "  features.append(iframe(response))\n",
        "  features.append(mouseOver(response))\n",
        "  features.append(rightClick(response))\n",
        "  features.append(forwarding(response))\n",
        "  features.append(label)\n",
        "\n",
        "  return features"
      ],
      "execution_count": null,
      "outputs": []
    },
    {
      "cell_type": "markdown",
      "metadata": {
        "id": "-v0QtVxld0Qq"
      },
      "source": [
        "### **4.1. Legitimate URLs:**\n",
        "\n",
        "Now, feature extraction is done on legitimate URLs."
      ]
    },
    {
      "cell_type": "code",
      "metadata": {
        "id": "s_2AX4OPeJRP",
        "outputId": "eaeff0b1-87a5-4a41-bbf2-44f0595f619d",
        "colab": {
          "base_uri": "https://localhost:8080/"
        }
      },
      "source": [
        "legiurl.shape"
      ],
      "execution_count": null,
      "outputs": [
        {
          "output_type": "execute_result",
          "data": {
            "text/plain": [
              "(5000, 1)"
            ]
          },
          "metadata": {},
          "execution_count": 40
        }
      ]
    },
    {
      "cell_type": "code",
      "metadata": {
        "id": "BKNg26HEP5kN",
        "colab": {
          "base_uri": "https://localhost:8080/"
        },
        "outputId": "72f92f52-795a-4b11-9ee8-62c10232cac6"
      },
      "source": [
        "#Extracting the feautres & storing them in a list\n",
        "legi_features = []\n",
        "label = 0\n",
        "\n",
        "for i in range(0, 5000):\n",
        "  url = legiurl['URLs'][i]\n",
        "  legi_features.append(featureExtraction(url,label))"
      ],
      "execution_count": null,
      "outputs": [
        {
          "metadata": {
            "tags": null
          },
          "name": "stdout",
          "output_type": "stream",
          "text": [
            "Error trying to connect to socket: closing socket - [Errno -2] Name or service not known\n",
            "Error trying to connect to socket: closing socket - [Errno -2] Name or service not known\n"
          ]
        }
      ]
    },
    {
      "cell_type": "code",
      "metadata": {
        "id": "DSuxYREMi0fr"
      },
      "source": [
        "#converting the list to dataframe\n",
        "feature_names = ['Domain', 'Have_IP', 'Have_At', 'URL_Length', 'URL_Depth','Redirection',\n",
        "                      'https_Domain', 'TinyURL', 'Prefix/Suffix', 'DNS_Record',\n",
        "                      'Domain_Age', 'Domain_End', 'iFrame', 'Mouse_Over','Right_Click', 'Web_Forwards', 'Label']\n",
        "\n",
        "legitimate = pd.DataFrame(legi_features, columns= feature_names)\n",
        "legitimate.head()"
      ],
      "execution_count": null,
      "outputs": []
    },
    {
      "cell_type": "code",
      "metadata": {
        "id": "1jVcLHvXC031"
      },
      "source": [
        "# Storing the extracted legitimate URLs fatures to csv file\n",
        "legitimate.to_csv('legitimate.csv', index= False)"
      ],
      "execution_count": null,
      "outputs": []
    },
    {
      "cell_type": "markdown",
      "metadata": {
        "id": "vrZJo_aboeGb"
      },
      "source": [
        "### **4.2. Phishing URLs:**\n",
        "\n",
        "Now, feature extraction is performed on phishing URLs."
      ]
    },
    {
      "cell_type": "code",
      "metadata": {
        "id": "PSKf1PCeoeGd"
      },
      "source": [
        "phishurl.shape"
      ],
      "execution_count": null,
      "outputs": []
    },
    {
      "cell_type": "code",
      "metadata": {
        "id": "WGhZMkbaoeGh"
      },
      "source": [
        "#Extracting the feautres & storing them in a list\n",
        "phish_features = []\n",
        "label = 1\n",
        "for i in range(0, 5000):\n",
        "  url = phishurl['url'][i]\n",
        "  phish_features.append(featureExtraction(url,label))"
      ],
      "execution_count": null,
      "outputs": []
    },
    {
      "cell_type": "code",
      "metadata": {
        "id": "1brvc6kmoeGk"
      },
      "source": [
        "#converting the list to dataframe\n",
        "feature_names = ['Domain', 'Have_IP', 'Have_At', 'URL_Length', 'URL_Depth','Redirection',\n",
        "                      'https_Domain', 'TinyURL', 'Prefix/Suffix', 'DNS_Record', 'Domain_Age', 'Domain_End', 'iFrame', 'Mouse_Over','Right_Click', 'Web_Forwards', 'Label']\n",
        "\n",
        "phishing = pd.DataFrame(phish_features, columns= feature_names)\n",
        "phishing.head()"
      ],
      "execution_count": null,
      "outputs": []
    },
    {
      "cell_type": "code",
      "metadata": {
        "id": "UhBbG2O7E30d"
      },
      "source": [
        "# Storing the extracted legitimate URLs fatures to csv file\n",
        "phishing.to_csv('phishing.csv', index= False)"
      ],
      "execution_count": null,
      "outputs": []
    },
    {
      "cell_type": "markdown",
      "metadata": {
        "id": "DB43ozsPq-6c"
      },
      "source": [
        "## **5. Final Dataset**\n",
        "\n",
        "In the above section we formed two dataframes of legitimate & phishing URL features. Now, we will combine them to a single dataframe and export the data to csv file for the Machine Learning training done in other notebook."
      ]
    },
    {
      "cell_type": "code",
      "metadata": {
        "id": "ktJNvDY5sUsX"
      },
      "source": [
        "#Concatenating the dataframes into one\n",
        "urldata = pd.concat([legitimate, phishing]).reset_index(drop=True)\n",
        "urldata.head()"
      ],
      "execution_count": null,
      "outputs": []
    },
    {
      "cell_type": "code",
      "metadata": {
        "id": "u1Viw3jKh3_o"
      },
      "source": [
        "urldata.tail()"
      ],
      "execution_count": null,
      "outputs": []
    },
    {
      "cell_type": "code",
      "metadata": {
        "id": "1NNxgbVCr7vt"
      },
      "source": [
        "urldata.shape"
      ],
      "execution_count": null,
      "outputs": []
    },
    {
      "cell_type": "code",
      "metadata": {
        "id": "596496VUrhRI"
      },
      "source": [
        "# Storing the data in CSV file\n",
        "urldata.to_csv('urldata.csv', index=False)"
      ],
      "execution_count": null,
      "outputs": []
    },
    {
      "cell_type": "markdown",
      "metadata": {
        "id": "srm3VLlHrmFN"
      },
      "source": [
        "## **6. Conclusion**\n",
        " We extracted 16 features for 10,000 URL which has 5000 phishing & 5000 legitimate URLs."
      ]
    }
  ]
}